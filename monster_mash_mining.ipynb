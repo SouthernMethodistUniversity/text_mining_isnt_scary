{
 "cells": [
  {
   "cell_type": "markdown",
   "id": "c30c0542-d03c-4d7b-aaf0-f2d12f5c117a",
   "metadata": {},
   "source": [
    "# Data Isn't Scary: Introduction to Text Mining"
   ]
  },
  {
   "cell_type": "markdown",
   "id": "9755563b-f957-458f-83c7-34c717358418",
   "metadata": {},
   "source": [
    "## Setup"
   ]
  },
  {
   "cell_type": "markdown",
   "id": "bf255d21-efb7-4a6b-9ee6-f5d25bc1f9c7",
   "metadata": {},
   "source": [
    "These are the basic libraries we will use in for data manipulation (pandas) and math functions (numpy). We will add more libraries as we need them.\n",
    "\n",
    "As a best practice, it is a good idea to load all your libraries in a single cell at the top of a notebook, however for the purposes of this tutorial we will load them as we go."
   ]
  },
  {
   "cell_type": "code",
   "execution_count": null,
   "id": "351270da-11ea-429f-9f42-4f3e1117706c",
   "metadata": {},
   "outputs": [],
   "source": [
    "import pandas as pd\n",
    "import numpy as np"
   ]
  },
  {
   "cell_type": "markdown",
   "id": "52353977-9f78-4856-a7b2-6f0b19d270fd",
   "metadata": {},
   "source": [
    "Load a data file into a pandas DataFrame.\n",
    "\n",
    "This tutorial was designed around using sets of data you have yourselves in a form like a CSV, TSV, or TXT file.\n",
    "\n",
    "To proceed, you will need to have this file downloaded and in the same folder as this notebook. Alternatively you can put the full path to the file.  Typically, your program will look for the file with the name you specified in the folder that contains your program unless you give the program a path to follow.\n",
    "\n",
    "For this particular lesson, I have made some choices about how I read in the file so that we get a structure that is interesting to analyze."
   ]
  },
  {
   "cell_type": "code",
   "execution_count": null,
   "id": "fd18fccd-4f06-406d-8387-8d58d0d2faf3",
   "metadata": {},
   "outputs": [],
   "source": [
    "with open(\"monster_mash.txt\") as f:\n",
    "    file = f.read().splitlines()\n",
    "\n",
    "lyrics=[]\n",
    "verse=[]\n",
    "for el in file:\n",
    "    if el!=\"\":\n",
    "        verse.append(el)\n",
    "    else:\n",
    "        lyrics.append(\"; \".join(verse))\n",
    "        verse = []\n",
    "lyrics.append(\"; \".join(verse))"
   ]
  },
  {
   "cell_type": "code",
   "execution_count": null,
   "id": "cc3f3dce-d3d1-430a-8aa9-cf0e14066863",
   "metadata": {},
   "outputs": [],
   "source": [
    "data = pd.DataFrame(lyrics,columns=[\"Lyrics\"]).reset_index()"
   ]
  },
  {
   "cell_type": "code",
   "execution_count": null,
   "id": "90ba14a0-c7e1-4e29-86cc-d125fd5ca464",
   "metadata": {},
   "outputs": [],
   "source": [
    "data.head()"
   ]
  },
  {
   "cell_type": "markdown",
   "id": "c5bd5ba7-74b4-4a7f-b9d0-d653f989ea85",
   "metadata": {},
   "source": [
    "## Counting Words and Characters"
   ]
  },
  {
   "cell_type": "markdown",
   "id": "88178ea1-2580-4be7-9b5e-ff8589ea37ff",
   "metadata": {},
   "source": [
    "The first bit of analysis we might want to do is to count the number of words in one piece of data. To do this we will add a column called *wordcount* and write an operation that applies a function to every row of the column.\n",
    "\n",
    "Unpacking this piece of code, *len(str(x).split(\" \")*, tells us what is happening.\n",
    "\n",
    "For the content of cell *x*, convert it to a string, *str()*, then split that string into pieces at each space, *split()*.\n",
    "\n",
    "The result of that is a list of all the words in the text and then we can count the length of that list, *len()*."
   ]
  },
  {
   "cell_type": "code",
   "execution_count": null,
   "id": "86741659-fdab-4593-ac88-bfb03a98ea22",
   "metadata": {
    "scrolled": true
   },
   "outputs": [],
   "source": [
    "data['wordcount'] = data['Lyrics'].apply(lambda x: len(str(x).split(\" \")))\n",
    "data[['Lyrics','wordcount']].head()"
   ]
  },
  {
   "cell_type": "markdown",
   "id": "3eddb958-7fa8-4755-ab94-683c47e5d758",
   "metadata": {},
   "source": [
    "We can do something similar to count the number of characters in the data chunk, including spaces. If you wanted to exclude whitespaces, you could take the list we made above, join it together and count the length of the resulting string."
   ]
  },
  {
   "cell_type": "code",
   "execution_count": null,
   "id": "1462e989-79d1-4e76-9811-fa4eed664414",
   "metadata": {},
   "outputs": [],
   "source": [
    "data = data.fillna(\"No Information Provided\") #If some of our data is missing, this will replace the blank entries. This is only necessary in some cases"
   ]
  },
  {
   "cell_type": "code",
   "execution_count": null,
   "id": "3efd1e57-4e51-433c-9157-dd46a6c9d20b",
   "metadata": {},
   "outputs": [],
   "source": [
    "data['char_count'] = data['Lyrics'].str.len() ## this also includes spaces, to do it without spaces, you could use something like this: \"\".join()\n",
    "data[['Lyrics','char_count']].head()"
   ]
  },
  {
   "cell_type": "markdown",
   "id": "ab5db880-384e-4cbf-a033-9e09fdb5570e",
   "metadata": {},
   "source": [
    "Now we want to calculate the average word length in the data.\n",
    "\n",
    "Let's define a function that will do that for us:"
   ]
  },
  {
   "cell_type": "code",
   "execution_count": null,
   "id": "b6369dee-a370-48f2-b3a2-068efefe2aca",
   "metadata": {},
   "outputs": [],
   "source": [
    "def avg_word(sentence):\n",
    "    words = sentence.split()\n",
    "    return (sum(len(word) for word in words)/len(words))"
   ]
  },
  {
   "cell_type": "markdown",
   "id": "4e98a4d5-eba0-412f-8100-f43f76a20f7d",
   "metadata": {},
   "source": [
    "We can now apply that function to all the data chunks and save that in a new column."
   ]
  },
  {
   "cell_type": "code",
   "execution_count": null,
   "id": "48d3e41f-9824-4485-ab4d-b37493de2dfb",
   "metadata": {},
   "outputs": [],
   "source": [
    "data['avg_word'] = data['Lyrics'].apply(lambda x: avg_word(x))\n",
    "data[['Lyrics','avg_word']].head()"
   ]
  },
  {
   "cell_type": "markdown",
   "id": "62db34fb-2a5f-4894-bc9b-a3f4054715d0",
   "metadata": {},
   "source": [
    "We can then sort by the average word length."
   ]
  },
  {
   "cell_type": "code",
   "execution_count": null,
   "id": "3141b2ce-3177-4423-9e72-1c25cd1cf257",
   "metadata": {},
   "outputs": [],
   "source": [
    "data[['Lyrics','avg_word']].sort_values(by='avg_word', ascending=True).head()"
   ]
  },
  {
   "cell_type": "markdown",
   "id": "c3a9c7e6-13b7-48ee-b36c-efe520f66e40",
   "metadata": {},
   "source": [
    "# Processing Text"
   ]
  },
  {
   "cell_type": "markdown",
   "id": "0082dedc-6da2-463c-9209-00180284e039",
   "metadata": {},
   "source": [
    "A major component of doing analysis on text is the cleaning of the text prior to the analysis.\n",
    "\n",
    "Though this process destroys some elements of the text (sentence structure, for example), it is often necessary in order to describe a text analytically. Depending on your choice of cleaning techniques, some elements might be preserved better than others if that is of importance to your analysis."
   ]
  },
  {
   "cell_type": "markdown",
   "id": "ea5fece2-945e-4a9f-b22f-39cb3fb4ddc0",
   "metadata": {},
   "source": [
    "## Cleaning Up Words"
   ]
  },
  {
   "cell_type": "markdown",
   "id": "22bb31a8-998f-49eb-aff9-67de53c8cb70",
   "metadata": {},
   "source": [
    "This series of steps aims to clean up and standardize the text itself. This generally consists of removing common elements such as stopwords and punctuation but can be expanded to more detailed removals."
   ]
  },
  {
   "cell_type": "markdown",
   "id": "e5ea1ffa-41ea-4516-8f8d-197fcc66bfcf",
   "metadata": {},
   "source": [
    "### Lowercase"
   ]
  },
  {
   "cell_type": "markdown",
   "id": "4e85523e-4500-4b9a-9386-0e880e610781",
   "metadata": {},
   "source": [
    "Here we enforce that all of the text is lowercase. This makes it easier to match cases and sort words.\n",
    "\n",
    "Notice we are assigning our modified column back to itself. This will save our modifications to our DataFrame"
   ]
  },
  {
   "cell_type": "code",
   "execution_count": null,
   "id": "5abc01c8-910e-4678-8f0b-ff3a757c6496",
   "metadata": {},
   "outputs": [],
   "source": [
    "data['Lyrics'] = data['Lyrics'].apply(lambda x: \" \".join(x.lower() for x in x.split()))\n",
    "data['Lyrics'].head()"
   ]
  },
  {
   "cell_type": "markdown",
   "id": "816bcff9-9dc3-47ef-bd54-559795de4299",
   "metadata": {},
   "source": [
    "### Remove Punctuation"
   ]
  },
  {
   "cell_type": "markdown",
   "id": "b45284b7-0fa0-4438-b6c7-04f9af367ba3",
   "metadata": {},
   "source": [
    "Here we remove all punctuation from the data. This allows us to focus on the words only as well as assist in matching."
   ]
  },
  {
   "cell_type": "code",
   "execution_count": null,
   "id": "7a9b7375-bb35-4660-ab18-1c4638776f9b",
   "metadata": {},
   "outputs": [],
   "source": [
    "data['Lyrics'] = data['Lyrics'].str.replace('[^\\w\\s]','')\n",
    "data['Lyrics'].head()"
   ]
  },
  {
   "cell_type": "markdown",
   "id": "d276a92d-bb2c-464a-8584-4ed27cac2fd2",
   "metadata": {},
   "source": [
    "### Remove Stopwords"
   ]
  },
  {
   "cell_type": "markdown",
   "id": "09174cf0-0f3a-4c83-b4be-ceeee1d55119",
   "metadata": {},
   "source": [
    "Stopwords are words that are commonly used and do little to aid in the understanding of the content of a text. There is no universal list of stopwords and they vary on the style, time period and media from which your text came from.  Typically, people choose to remove stopwords from their data, as it adds extra clutter while the words themselves provide little to no insight as to the nature of the data.  For now, we are simply going to count them to get an idea of how many there are.\n",
    "\n",
    "For this tutorial, we will use the standard list of stopwords provided by the Natural Language Toolkit python library."
   ]
  },
  {
   "cell_type": "code",
   "execution_count": null,
   "id": "b2573ac7-815e-469c-b2bd-20d33456a7ba",
   "metadata": {},
   "outputs": [],
   "source": [
    "from nltk.corpus import stopwords\n",
    "stop = stopwords.words('english')\n",
    "data['Lyrics'] = data['Lyrics'].apply(lambda x: \" \".join(x for x in x.split() if x not in stop))\n",
    "data['Lyrics'].head()"
   ]
  },
  {
   "cell_type": "markdown",
   "id": "29b9ba9b-5d69-4fa3-a1b0-ec1cbf481973",
   "metadata": {},
   "source": [
    "### Remove Frequent Words"
   ]
  },
  {
   "cell_type": "markdown",
   "id": "02d68bc9-bd67-40b6-8ced-37563d17133f",
   "metadata": {},
   "source": [
    "If we want to catch common words that might have slipped through the stopword removal, we can build out a list of the most common words remaining in our text.\n",
    "\n",
    "Here we have built a list of the 10 most common words. Some of these words might actually be relevant to our analysis so it is important to be careful with this method."
   ]
  },
  {
   "cell_type": "code",
   "execution_count": null,
   "id": "1dc470a9-0ad9-4d54-b816-1d7eec9b4101",
   "metadata": {},
   "outputs": [],
   "source": [
    "freq = pd.Series(' '.join(data['Lyrics']).split()).value_counts()[:10]\n",
    "freq"
   ]
  },
  {
   "cell_type": "markdown",
   "id": "6e57169e-821e-4a27-8022-ca7e774bfbd8",
   "metadata": {},
   "source": [
    "We now could follow the same procedure with which we removed stopwords to remove the most frequent words but we won't here."
   ]
  },
  {
   "cell_type": "code",
   "execution_count": null,
   "id": "fab26d5f-2341-4409-92f0-a03b5df1b2dd",
   "metadata": {},
   "outputs": [],
   "source": [
    "#freq = list(freq.index)\n",
    "#data['Lyrics'] = data['Lyrics'].apply(lambda x: \" \".join(x for x in x.split() if x not in freq))\n",
    "#data['Lyrics'].head()"
   ]
  },
  {
   "cell_type": "markdown",
   "id": "12fe630b-3b47-43ae-a3a2-e9cde4df293c",
   "metadata": {},
   "source": [
    "## Stemming"
   ]
  },
  {
   "cell_type": "markdown",
   "id": "52a601be-4526-441f-8b20-8e476c622484",
   "metadata": {},
   "source": [
    "Stemming is the process of removing suffices, like \"ed\" or \"ing\".\n",
    "\n",
    "We will use another standard NLTK package, PorterStemmer, to do the stemming."
   ]
  },
  {
   "cell_type": "code",
   "execution_count": null,
   "id": "a52a7ba9-3bc6-4246-b743-96296b1de8db",
   "metadata": {},
   "outputs": [],
   "source": [
    "from nltk.stem import PorterStemmer\n",
    "st = PorterStemmer()\n",
    "data['Lyrics'].apply(lambda x: \" \".join([st.stem(word) for word in x.split()]))"
   ]
  },
  {
   "cell_type": "markdown",
   "id": "97781e0e-1646-4c76-8f65-b7e2e4858a4a",
   "metadata": {},
   "source": [
    "As we can see \"eyes\" became \"eye\", which could help an analysis, but \"castle\" became \"castl\" which is less helpful."
   ]
  },
  {
   "cell_type": "markdown",
   "id": "35cd805f-24ed-4c65-b1e3-bb64b3817bc3",
   "metadata": {},
   "source": [
    "## Lemmatization"
   ]
  },
  {
   "cell_type": "markdown",
   "id": "9b26628b-5b40-4f97-831c-33ca39497057",
   "metadata": {},
   "source": [
    "Lemmatization is often a more useful approach than stemming because it leverages an understanding of the word itself to convert the word back to its root word. However, this means lemmatization is less aggressive than stemming (probably a good thing)."
   ]
  },
  {
   "cell_type": "code",
   "execution_count": null,
   "id": "7842d172-32a5-4bcc-a2af-157c5e96c1b0",
   "metadata": {},
   "outputs": [],
   "source": [
    "#import nltk\n",
    "#nltk.download('wordnet')"
   ]
  },
  {
   "cell_type": "code",
   "execution_count": null,
   "id": "d2035b03-0b0d-4c8a-8212-a2c89448407e",
   "metadata": {},
   "outputs": [],
   "source": [
    "from textblob import Word\n",
    "data['Lyrics'] = data['Lyrics'].apply(lambda x: \" \".join([Word(word).lemmatize() for word in x.split()]))\n",
    "data['Lyrics'].head()"
   ]
  },
  {
   "cell_type": "markdown",
   "id": "db1e852e-da5e-4c31-a89e-b280ddef88e8",
   "metadata": {},
   "source": [
    "Notice how we still caught \"eyes\" to \"eye\" but left \"castle\" as is."
   ]
  },
  {
   "cell_type": "markdown",
   "id": "49924f92-af05-4de5-9c91-ca111b5f729a",
   "metadata": {},
   "source": [
    "## Visualizing Text"
   ]
  },
  {
   "cell_type": "markdown",
   "id": "b69f42be-bf05-49fc-b77d-10f8c3a5f599",
   "metadata": {},
   "source": [
    "Now, we are going to make a word cloud based on our data set. Wordclouds are great to get a sense of your text but are difficult to use for actual analysis work."
   ]
  },
  {
   "cell_type": "code",
   "execution_count": null,
   "id": "249293fb-98d1-4d40-a64b-ab9078135ac1",
   "metadata": {},
   "outputs": [],
   "source": [
    "import wordcloud"
   ]
  },
  {
   "cell_type": "code",
   "execution_count": null,
   "id": "3761feb9-32c8-4adc-9d5e-2a501d7bac6a",
   "metadata": {},
   "outputs": [],
   "source": [
    "from wordcloud import WordCloud, STOPWORDS, ImageColorGenerator\n",
    "import matplotlib.pyplot as plt\n",
    "%matplotlib inline\n",
    "%config InlineBackend.figure_format ='retina'\n",
    "#stop = set(STOPWORDS)\n",
    "#stop.update([\"mash\"])"
   ]
  },
  {
   "cell_type": "markdown",
   "id": "0e82d76f-733a-4605-8fdc-519e2ef74954",
   "metadata": {},
   "source": [
    "If you want to update the stopwords after you see the wordcloud, type them into the empty list above and remove the # sign."
   ]
  },
  {
   "cell_type": "code",
   "execution_count": null,
   "id": "5c524a32-d713-47e6-a75a-c11609c61337",
   "metadata": {},
   "outputs": [],
   "source": [
    "word = \" \".join(data['Lyrics'])\n",
    "wordcloud = WordCloud(stopwords=stop, background_color=\"black\").generate(word)\n",
    "plt.imshow(wordcloud, interpolation='bilinear')\n",
    "plt.axis(\"off\")\n",
    "plt.show()"
   ]
  },
  {
   "cell_type": "markdown",
   "id": "f746c930-a972-4f1f-80b5-78bd0c26c9ff",
   "metadata": {},
   "source": [
    "The above code creates a wordcloud based off all the words (except for stop words) in all of the stories. While this can be fun, it may not be as interesting as a wordcloud for a single story. Let's compare:"
   ]
  },
  {
   "cell_type": "code",
   "execution_count": null,
   "id": "461d4f59-f8bc-4f1b-811c-7b63ecd86d8b",
   "metadata": {},
   "outputs": [],
   "source": [
    "for i in range(0, 11):\n",
    "    word = data['Lyrics'][i]\n",
    "    wordcloud = WordCloud(stopwords=stop, background_color=\"black\").generate(word)\n",
    "    plt.imshow(wordcloud, interpolation='bilinear')\n",
    "    plt.axis(\"off\")\n",
    "    plt.show()"
   ]
  },
  {
   "cell_type": "markdown",
   "id": "8153e93c-7933-4bd1-997b-865192a997b8",
   "metadata": {},
   "source": [
    "# Advanced Text Processing"
   ]
  },
  {
   "cell_type": "markdown",
   "id": "9139f02d-c8b2-435d-9705-5d66afb7c32e",
   "metadata": {},
   "source": [
    "This section focuses on more complex methods of analyzing textual data. We will continue to work with our same DataFrame."
   ]
  },
  {
   "cell_type": "markdown",
   "id": "f0a8e28b-4ff7-489a-8bc6-89cdac801e76",
   "metadata": {},
   "source": [
    "## N-grams"
   ]
  },
  {
   "cell_type": "markdown",
   "id": "25593946-9696-49c5-88d9-88c71c138ddb",
   "metadata": {},
   "source": [
    "N-grams are combinations of multiple words as they appear in the text. The N refers to the number of words captured in the list. N-grams with N=1 are referred unigrams and are just a nested list of all the words in the text. Following a similar pattern, bigrams (N=2), trigrams (N=3), etc. can be used.\n",
    "\n",
    "N-grams allow you to capture the structure of the text which can be very useful. For instance, counting the number of bigrams where \"said\" was preceded by \"he\" vs \"she\" could give you an idea of the gender breakdown of speakers in a text. However, if you make your N-grams too long, you lose the ability to make comparisons.\n",
    "\n",
    "Another concern, especially in very large data sets, is that the memory storage of N-grams scales with N (bigrams are twice as large as unigrams, for example) and the time to process the N-grams can balloon dramatically as well.\n",
    "\n",
    "All that being said, we would suggest focusing on bigrams and trigrams as useful analysis tools."
   ]
  },
  {
   "cell_type": "code",
   "execution_count": null,
   "id": "96e8659b-7435-4143-95a2-d817a7e50d7b",
   "metadata": {},
   "outputs": [],
   "source": [
    "from nltk.stem import WordNetLemmatizer\n",
    "from textblob import TextBlob\n",
    "\n",
    "lemmatizer = WordNetLemmatizer()\n",
    "n_grams = TextBlob(\" \".join(data['Lyrics'])).ngrams(2)"
   ]
  },
  {
   "cell_type": "code",
   "execution_count": null,
   "id": "ea9b8098-f6fe-4e47-b7d2-82990d178ed3",
   "metadata": {},
   "outputs": [],
   "source": [
    "characters=[]\n",
    "for i in ['wolfman', 'vampire', 'monster']:\n",
    "     characters.append(lemmatizer.lemmatize(i))"
   ]
  },
  {
   "cell_type": "code",
   "execution_count": null,
   "id": "bcc67f6c-844a-45da-b680-6088ff532975",
   "metadata": {},
   "outputs": [],
   "source": [
    "for n in n_grams:\n",
    "    if n[1] in characters:\n",
    "        print(n)"
   ]
  },
  {
   "cell_type": "code",
   "execution_count": null,
   "id": "a1da6945-53ec-4f25-b1a4-887f5f484263",
   "metadata": {},
   "outputs": [],
   "source": [
    "from nltk import ngrams\n",
    "from collections import Counter\n",
    "\n",
    "ngram_counts = Counter(ngrams(\" \".join(data['Lyrics']).split(), 2))\n",
    "for n in ngram_counts.most_common(10):\n",
    "    print(n)"
   ]
  },
  {
   "cell_type": "markdown",
   "id": "bd2eebb0-d6ef-4224-ba01-dda7e99f1db1",
   "metadata": {},
   "source": [
    "## Term Frequency"
   ]
  },
  {
   "cell_type": "markdown",
   "id": "3e96bae4-828f-4dc1-b4c1-5fdfe24f4cf9",
   "metadata": {},
   "source": [
    "Term Frequency is a measure of how often a term appears in a document. There are different ways to define this but the simplest is a raw count of the number of times each term appears.\n",
    "\n",
    "There are other ways of defining this including a true term frequency and a log scaled definition. All three have been implemented below but the default will the raw count definition, as it matches with the remainder of the definitions in this tutorial.\n",
    "\n",
    "|Definition|Formula|\n",
    "|---|---|\n",
    "|Raw Count|$$f_{t,d}$$|\n",
    "|Term Frequency|$$\\frac{f_{t,d}}{\\sum_{t'\\in d}f_{t',d}}$$|\n",
    "|Log Scaled|$$\\log(1+f_{t,d})$$|\n",
    "\n"
   ]
  },
  {
   "cell_type": "code",
   "execution_count": null,
   "id": "1be4e184-fb6e-49e2-bac8-3bcf6e2c998d",
   "metadata": {},
   "outputs": [],
   "source": [
    "## Raw Count Definition\n",
    "tf1 = (data['Lyrics']).apply(lambda x: pd.value_counts(x.split(\" \"))).sum(axis = 0).reset_index()\n",
    "\n",
    "## Term Frequency Definition\n",
    "#tf1 = (data['Lyrics']).apply(lambda x: (pd.value_counts(x.split(\" \")))/len(x.split(\" \"))).sum(axis = 0).reset_index() \n",
    "\n",
    "## Log Scaled Definition\n",
    "#tf1 = (data['Lyrics']).apply(lambda x: 1.0+np.log(pd.value_counts(x.split(\" \")))).sum(axis = 0).reset_index() \n",
    "\n",
    "tf1.columns = ['words','tf']\n",
    "tf1.sort_values(by='tf', ascending=False)[:10]"
   ]
  },
  {
   "cell_type": "markdown",
   "id": "2daa6200-96ac-4a60-93d6-f357013c5be6",
   "metadata": {},
   "source": [
    "## Inverse Document Frequency"
   ]
  },
  {
   "cell_type": "markdown",
   "id": "e7231050-7d0a-4372-ba35-3c47c30b0513",
   "metadata": {},
   "source": [
    "Inverse Document Frequency is a measure of how common or rare a term is across multiple documents. That gives a measure of how much weight that term carries.\n",
    "\n",
    "For a more concrete analogy of this, imagine a room full of NBA players; here a 7 foot tall person wouldn't be all that shocking. However if you have a room full of kindergarten students, a 7 foot tall person would be a huge surprise.\n",
    "\n",
    "The simplest and standard definition of Inverse Document Frequency is to take the logarithm of the ratio of the number of documents containing a term to the total number of documents.\n",
    "\n",
    "$$-\\log\\frac{n_t}{N} = \\log\\frac{N}{n_t}$$\n"
   ]
  },
  {
   "cell_type": "code",
   "execution_count": null,
   "id": "13243ac7-95f1-4f90-bcd6-205287382fc0",
   "metadata": {},
   "outputs": [],
   "source": [
    "for i,word in enumerate(tf1['words']):\n",
    "    tf1.loc[i, 'idf'] = np.log(data.shape[0]/(len(data[data['Lyrics'].str.contains(word)])))\n",
    "\n",
    "tf1.sort_values(by='idf', ascending=False)[:10]"
   ]
  },
  {
   "cell_type": "markdown",
   "id": "1be81f38-378c-4455-9373-195dcb9e3ec2",
   "metadata": {},
   "source": [
    "## Term Frequency – Inverse Document Frequency ([TF-IDF](https://en.wikipedia.org/wiki/Tf%E2%80%93idf))"
   ]
  },
  {
   "cell_type": "markdown",
   "id": "91c7f66d-b8ad-4763-91c2-1873e331698f",
   "metadata": {},
   "source": [
    "Term Frequency – Inverse Document Frequency (TF-IDF) is a composite measure of both Term Frequency and Inverse Document Frequency.\n",
    "\n",
    "From [Wikipedia](https://en.wikipedia.org/wiki/Tf%E2%80%93idf):\n",
    "\"A high weight in TF–IDF is reached by a high term frequency (in the given document) and a low document frequency of the term in the whole collection of documents; the weights hence tend to filter out common terms\"\n",
    "\n",
    "More concisely, a high TD-IDF says that a word is very important in the documents in which it appears.\n",
    "\n",
    "There are a few weighting schemes for TF-IDF. Here we use scheme (1).\n",
    "\n",
    "|Weighting Scheme|Document Term Weight|\n",
    "|---|---|\n",
    "|(1)|$$f_{t,d}\\cdot\\log\\frac{N}{n_t}$$|\n",
    "|(2)|$$1+\\log(f_{t,d})$$|\n",
    "|(3)|$$(1+\\log(f_{t,d}))\\cdot\\log\\frac{N}{n_t}$$|"
   ]
  },
  {
   "cell_type": "code",
   "execution_count": null,
   "id": "ebbcf343-1311-4cad-b4bc-90e0ace6921f",
   "metadata": {
    "scrolled": true
   },
   "outputs": [],
   "source": [
    "tf1['tfidf'] = tf1['tf'] * tf1['idf']\n",
    "tf1.sort_values(by='tfidf', ascending=False)[:10]"
   ]
  },
  {
   "cell_type": "markdown",
   "id": "1be4907f-ac19-468a-9c36-d4e1e2c31aa1",
   "metadata": {},
   "source": [
    "It is worth noting that the *sklearn* library has the ability to directly calculate a TD-IDF matrix. (We'll use this later)"
   ]
  },
  {
   "cell_type": "code",
   "execution_count": null,
   "id": "88072e42-ef91-46ba-b225-77eb4a0c135e",
   "metadata": {},
   "outputs": [],
   "source": [
    "from sklearn.feature_extraction.text import TfidfVectorizer\n",
    "tfidf = TfidfVectorizer(max_features=1000, lowercase=True, analyzer='word',\n",
    " stop_words= 'english',ngram_range=(1,1))\n",
    "data_vect = tfidf.fit_transform(data['Lyrics'])\n",
    "\n",
    "data_vect"
   ]
  },
  {
   "cell_type": "markdown",
   "id": "98588a6f-df74-4dbf-b795-975018af4d6a",
   "metadata": {},
   "source": [
    "## Similarity"
   ]
  },
  {
   "cell_type": "code",
   "execution_count": null,
   "id": "987b82fb-8961-4ea6-ba2e-bfc758094bdc",
   "metadata": {},
   "outputs": [],
   "source": [
    "from collections import Counter\n",
    "from sklearn.feature_extraction.text import CountVectorizer\n",
    "from sklearn.metrics.pairwise import cosine_similarity\n",
    "import warnings\n",
    "pd.options.mode.chained_assignment = None  # default='warn' #suppress our crossjoin warning message\n",
    "warnings.filterwarnings(\"ignore\", category=FutureWarning) # This suppresses a warning from scikit learn that they are going to update their code"
   ]
  },
  {
   "cell_type": "markdown",
   "id": "2afe6976-def9-42db-8029-34bd2fcd76a0",
   "metadata": {},
   "source": [
    "One thing we can look at is how similar two texts are. This has a practical use when looking for plagiarism, but can also be used to compare author's styles. To do this there are a few ways we can measure similarity."
   ]
  },
  {
   "cell_type": "markdown",
   "id": "e772c531-9a30-4b0a-8aa4-d826b5c72712",
   "metadata": {},
   "source": [
    "First we need to set up our two sets of texts. Here we have the ability to choose the size of our sets and whether we want the first n texts from our full data set or just a random sample. Keep in mind that if you want to use two dissimilar sets, you won't have a control value (something x itself)."
   ]
  },
  {
   "cell_type": "code",
   "execution_count": null,
   "id": "2a18970c-d361-49bd-b65b-73e9e1b88e41",
   "metadata": {},
   "outputs": [],
   "source": [
    "set1 = data[[\"index\",'Lyrics']]\n",
    "set2 = data[[\"index\",'Lyrics']]"
   ]
  },
  {
   "cell_type": "code",
   "execution_count": null,
   "id": "5d6bd59a-78cb-4d4c-9f66-34446630996a",
   "metadata": {},
   "outputs": [],
   "source": [
    "#To let us do a \"cross join\": Every row in one gets matched to all rows in the other\n",
    "set1['key']=1 \n",
    "set2['key']=1\n",
    "\n",
    "similarity = pd.merge(set1, set2, on ='key', suffixes=('_1', '_2')).drop(\"key\", 1)"
   ]
  },
  {
   "cell_type": "markdown",
   "id": "a5a87ab4-2e18-482b-b68d-1d1916b9a01c",
   "metadata": {},
   "source": [
    "### Jaccard Similarity"
   ]
  },
  {
   "cell_type": "markdown",
   "id": "afce89eb-ef5d-4ae7-aeb3-e331d1e4e89c",
   "metadata": {},
   "source": [
    "The first is using a metric called the [Jaccard Index](https://en.wikipedia.org/wiki/Jaccard_index). This is just taking the intersection of two sets of things (in our case, words or n-grams) and dividing it by the union of those sets. This gives us a metric for understanding how the word usage compares but doesn't account for repeated words since the union and intersections just take unique words. One advantage though is that we can easily extend the single word similarity to compare bi-grams and other n-grams if we want to examine phrase usage.\n",
    "\n",
    "$$S_{J}(A,B)=\\frac{A \\cap B}{A \\cup B}$$\n"
   ]
  },
  {
   "cell_type": "code",
   "execution_count": null,
   "id": "a62c0562-1f38-4c72-9371-f32d9aea159b",
   "metadata": {},
   "outputs": [],
   "source": [
    "def jaccard(row, n=1):\n",
    "    \n",
    "    old=row['Lyrics_1']\n",
    "    new=row['Lyrics_2']\n",
    "    \n",
    "    old_n_grams = [tuple(el) for el in TextBlob(old).ngrams(n)]\n",
    "    new_n_grams = [tuple(el) for el in TextBlob(new).ngrams(n)]\n",
    "        \n",
    "    union = list(set(old_n_grams) | set(new_n_grams))\n",
    "    intersection = list(set(old_n_grams) & set(new_n_grams))\n",
    "    \n",
    "    lu = len(union)\n",
    "    li = len(intersection)\n",
    "    \n",
    "    return (li/lu,li,lu)"
   ]
  },
  {
   "cell_type": "code",
   "execution_count": null,
   "id": "42c841b6-0e4c-48d8-a272-4b612a2c43bd",
   "metadata": {},
   "outputs": [],
   "source": [
    "for i in [1,2]: # Add values to the list for the n-gram you're interested in\n",
    "    similarity['Jaccard_Index_for_{}_grams'.format(i)]=similarity.apply(lambda x: jaccard(x,i)[0],axis=1)"
   ]
  },
  {
   "cell_type": "code",
   "execution_count": null,
   "id": "b87b0d21-bc76-49a5-9e7c-e275c5ec2c04",
   "metadata": {},
   "outputs": [],
   "source": [
    "similarity['Intersection']=similarity.apply(lambda x: jaccard(x)[1],axis=1)"
   ]
  },
  {
   "cell_type": "code",
   "execution_count": null,
   "id": "5f288c78-c401-4953-937f-a11b9b4f75a7",
   "metadata": {},
   "outputs": [],
   "source": [
    "similarity['Union']=similarity.apply(lambda x: jaccard(x)[2],axis=1)"
   ]
  },
  {
   "cell_type": "code",
   "execution_count": null,
   "id": "83b7286c-219e-40e8-89cc-a2f5515c2237",
   "metadata": {},
   "outputs": [],
   "source": [
    "similarity.head()"
   ]
  },
  {
   "cell_type": "markdown",
   "id": "8d4aed23-2478-422c-84fc-97ffe3e39042",
   "metadata": {},
   "source": [
    "### Cosine Similarity"
   ]
  },
  {
   "cell_type": "markdown",
   "id": "45cf0f10-40e0-4a51-abb9-75e9d1fd1728",
   "metadata": {},
   "source": [
    "The second metric we can use is [Cosine Similarity](https://en.wikipedia.org/wiki/Cosine_similarity), however there is a catch here. Cosine similarity requires a vector for each word so we make a choice here to use term frequency. You could choose something else, inverse document frequency or tf-idf would both be good choices. Cosine similarity with a term frequency vector gives us something very similar to the Jaccard Index but accounts for word repetition. This makes it better for tracking word importance between two texts.\n",
    "\n",
    "$$S_{C}(v_1,v_2)=cos(\\theta)=\\frac{v_1\\cdot v_2}{||v_1||\\times||v_2||}$$"
   ]
  },
  {
   "cell_type": "code",
   "execution_count": null,
   "id": "13caca14-9542-4200-88bd-8a1d895a3764",
   "metadata": {},
   "outputs": [],
   "source": [
    "def get_cosine_sim(str1,str2): \n",
    "    vectors = [t for t in get_vectors([str1,str2])]\n",
    "    return cosine_similarity(vectors)\n",
    "    \n",
    "def get_vectors(slist):\n",
    "    text = [t for t in slist]\n",
    "    vectorizer = CountVectorizer(text)\n",
    "    vectorizer.fit(text)\n",
    "    return vectorizer.transform(text).toarray()\n",
    "\n",
    "def cosine(row):\n",
    "    \n",
    "    old=row['Lyrics_1']\n",
    "    new=row['Lyrics_2']\n",
    "    \n",
    "    return get_cosine_sim(old,new)[0,1]   "
   ]
  },
  {
   "cell_type": "code",
   "execution_count": null,
   "id": "1be30c92-5666-4ce9-b4d2-c161a48c1314",
   "metadata": {},
   "outputs": [],
   "source": [
    "similarity['Cosine_Similarity']=similarity.apply(lambda x: cosine(x),axis=1)"
   ]
  },
  {
   "cell_type": "code",
   "execution_count": null,
   "id": "d7dd1233-c2f8-4dae-9962-66600be4e5ea",
   "metadata": {},
   "outputs": [],
   "source": [
    "similarity.head()"
   ]
  },
  {
   "cell_type": "markdown",
   "id": "1494e35a-f8af-4072-8482-5eaa03c70084",
   "metadata": {},
   "source": [
    "### Visualize Similarity"
   ]
  },
  {
   "cell_type": "code",
   "execution_count": null,
   "id": "645c8e04-2f4a-4917-b1fd-42726f614b56",
   "metadata": {},
   "outputs": [],
   "source": [
    "#metric = 'Cosine_Similarity'\n",
    "metric = 'Jaccard_Index_for_1_grams'"
   ]
  },
  {
   "cell_type": "code",
   "execution_count": null,
   "id": "5ba5a31f-4da1-4c40-87d0-51ffb7c1fddf",
   "metadata": {},
   "outputs": [],
   "source": [
    "import numpy as np \n",
    "import matplotlib.pyplot as plt\n",
    "\n",
    "index = list(similarity['index_1'].unique())\n",
    "columns = list(similarity['index_2'].unique())\n",
    "df = pd.DataFrame(0, index=index, columns=columns)\n",
    "\n",
    "for i in df.index:\n",
    "    sub = similarity[(similarity['index_1']==i)]\n",
    "    for col in df.columns:\n",
    "        df.loc[i,col]=sub[sub['index_2']==col][metric].iloc[0]\n",
    "        \n",
    "plt.pcolor(df)\n",
    "plt.yticks(np.arange(0.5, len(df.index), 1), df.index)\n",
    "plt.xticks(np.arange(0.5, len(df.columns), 1), df.columns)\n",
    "plt.show()"
   ]
  },
  {
   "cell_type": "code",
   "execution_count": null,
   "id": "49b9ab76-e38e-4d3a-b3a1-03507d56e5a9",
   "metadata": {},
   "outputs": [],
   "source": [
    "similarity[(similarity[\"index_1\"]!=similarity[\"index_2\"]) & (similarity[metric]>0.0)]\\\n",
    "[['Lyrics_1','index_1','Lyrics_2','index_2',metric]].sort_values(by=metric,ascending=False)"
   ]
  },
  {
   "cell_type": "markdown",
   "id": "91f4ec82-cb3d-4f99-a5fd-13a2db5134db",
   "metadata": {},
   "source": [
    "## Sentiment Analysis"
   ]
  },
  {
   "cell_type": "markdown",
   "id": "80bcd057-f92f-49fd-aedc-35ac87beb737",
   "metadata": {},
   "source": [
    "Sentiment is a way of measuring the overall positivity or negativity in a given text.\n",
    "\n",
    "To do this we will use the built in sentiment function in the *TextBlob* package. This function will return the polarity and subjectivity scores for each data chunk."
   ]
  },
  {
   "cell_type": "code",
   "execution_count": null,
   "id": "322f75c5-68a0-4b32-9f35-81eff6c1385d",
   "metadata": {},
   "outputs": [],
   "source": [
    "data['Lyrics'].apply(lambda x: TextBlob(x).sentiment)"
   ]
  },
  {
   "cell_type": "markdown",
   "id": "406a764b-b6c8-4051-a720-b95cfc670cbb",
   "metadata": {},
   "source": [
    "Focusing on the polarity score, we are able to see the overall sentiment of each data chunk. The closer to 1 the more positive and the closer to -1 the more negative."
   ]
  },
  {
   "cell_type": "code",
   "execution_count": null,
   "id": "c64a3183-94e6-4d3e-b16c-d419e226c646",
   "metadata": {
    "scrolled": true
   },
   "outputs": [],
   "source": [
    "data['sentiment'] = data['Lyrics'].apply(lambda x: TextBlob(x).sentiment[0] )\n",
    "data[['Lyrics','sentiment']].head()"
   ]
  },
  {
   "cell_type": "code",
   "execution_count": null,
   "id": "13be81ea-58d7-4095-a9c9-89c4dac9239f",
   "metadata": {},
   "outputs": [],
   "source": [
    "data[['Lyrics','sentiment']].sort_values(by='sentiment',ascending=False)"
   ]
  },
  {
   "cell_type": "code",
   "execution_count": null,
   "id": "7a5aa128-955a-4d46-bcf8-c75a24548d9a",
   "metadata": {
    "scrolled": true
   },
   "outputs": [],
   "source": [
    "plot_1 = data[['sentiment']].plot(kind='bar')"
   ]
  },
  {
   "cell_type": "code",
   "execution_count": null,
   "id": "bd3b147e-3518-4b11-b5a0-ae81e2528587",
   "metadata": {},
   "outputs": [],
   "source": [
    "plot_2 = data[['sentiment']].sort_values(by='sentiment', ascending=False).plot(kind='bar')"
   ]
  },
  {
   "cell_type": "markdown",
   "id": "0952a778-b062-4040-ad3a-8eadfe63f083",
   "metadata": {},
   "source": [
    "## Using TF-IDF and Machine Learning"
   ]
  },
  {
   "cell_type": "markdown",
   "id": "ffe1cc39-6901-42c6-ab9d-b47807bd06ae",
   "metadata": {},
   "source": [
    "This is significantly more advanced than the rest of the tutorial. This takes the TF-IDF matrix and applies a [k-means clustering algorithm](https://en.wikipedia.org/wiki/K-means_clustering). This groups the texts into clusters of similar terms from the TF-IDF matrix. This algorithm randomly seeds X \"means\", the values are then clustered into the nearest mean. The centroid of the values in each cluster then becomes the new mean and the process repeats until a convergence is reached."
   ]
  },
  {
   "cell_type": "code",
   "execution_count": null,
   "id": "8d1b40cd-da10-4222-ad70-a53c71ed4479",
   "metadata": {},
   "outputs": [],
   "source": [
    "import matplotlib.pyplot as plt\n",
    "from sklearn.feature_extraction.text import TfidfVectorizer\n",
    "from sklearn.cluster import KMeans\n",
    "from sklearn.decomposition import PCA\n",
    "from sklearn.manifold import TSNE\n",
    "\n",
    "groups = 2\n",
    "\n",
    "num_clusters = groups\n",
    "num_seeds = groups\n",
    "max_iterations = 300\n",
    "labels_color_map = {\n",
    "    0: '#20b2aa', 1: '#ff7373', 2: '#ffe4e1', 3: '#005073', 4: '#4d0404',\n",
    "    5: '#ccc0ba', 6: '#4700f9', 7: '#f6f900', 8: '#00f91d', 9: '#da8c49'\n",
    "}\n",
    "pca_num_components = 2\n",
    "tsne_num_components = 2\n",
    "\n",
    "# calculate tf-idf of texts\n",
    "tfidf = TfidfVectorizer(max_features=1000, lowercase=True, analyzer='word',stop_words= 'english',ngram_range=(1,1))\n",
    "tf_idf_matrix = tfidf.fit_transform(data['Lyrics'])\n",
    "\n",
    "# create k-means model with custom config\n",
    "clustering_model = KMeans(\n",
    "    n_clusters=num_clusters,\n",
    "    max_iter=max_iterations,\n",
    "    precompute_distances=\"auto\",\n",
    "    n_jobs=-1\n",
    ")\n",
    "\n",
    "labels = clustering_model.fit_predict(tf_idf_matrix)\n",
    "#print(labels)\n",
    "\n",
    "X = tf_idf_matrix.todense()\n",
    "\n",
    "# ----------------------------------------------------------------------------------------------------------------------\n",
    "\n",
    "reduced_data = PCA(n_components=pca_num_components).fit_transform(X)\n",
    "# print(reduced_data)\n",
    "\n",
    "import matplotlib.patches as mpatches\n",
    "legendlist=[mpatches.Patch(color=labels_color_map[key],label=str(key))for key in labels_color_map.keys()][:groups]\n",
    "\n",
    "fig, ax = plt.subplots()\n",
    "for index, instance in enumerate(reduced_data):\n",
    "    #print(instance, index, labels[index])\n",
    "    pca_comp_1, pca_comp_2 = reduced_data[index]\n",
    "    color = labels_color_map[labels[index]]\n",
    "    ax.scatter(pca_comp_1, pca_comp_2, c=color)\n",
    "plt.legend(handles=legendlist)\n",
    "plt.show()\n",
    "\n",
    "\n",
    "\n",
    "# t-SNE plot\n",
    "#embeddings = TSNE(n_components=tsne_num_components)\n",
    "#Y = embeddings.fit_transform(X)\n",
    "#plt.scatter(Y[:, 0], Y[:, 1], cmap=plt.cm.Spectral)\n",
    "#plt.show()\n"
   ]
  },
  {
   "cell_type": "code",
   "execution_count": null,
   "id": "5c0bfae2-cfea-40e0-80ae-3f585bb63741",
   "metadata": {},
   "outputs": [],
   "source": [
    "tfidf_test = tf1.sort_values(by='tfidf', ascending=False)[:1000]"
   ]
  },
  {
   "cell_type": "code",
   "execution_count": null,
   "id": "cb7907de-f3f8-4dc5-9938-2f43b482a40f",
   "metadata": {},
   "outputs": [],
   "source": [
    "title_groups = np.transpose([labels,data['Lyrics'],data['index']])"
   ]
  },
  {
   "cell_type": "markdown",
   "id": "b9c8b020-e0bb-4b26-a408-a8bb878b9aaf",
   "metadata": {},
   "source": [
    "Keep in mind that each time you run the algorithm, the randomness in generating the initial means will result in different clusters."
   ]
  },
  {
   "cell_type": "code",
   "execution_count": null,
   "id": "68f9886c-e917-483c-8cdd-8689d5266e4c",
   "metadata": {},
   "outputs": [],
   "source": [
    "for i in range(len(title_groups)):\n",
    "    data.loc[i,'Group'] = title_groups[i][0]"
   ]
  },
  {
   "cell_type": "code",
   "execution_count": null,
   "id": "132a8ee1-82b0-450f-b5fe-691aaa8d2f57",
   "metadata": {},
   "outputs": [],
   "source": [
    "grp=0\n",
    "data[data['Group']==grp]['Lyrics']"
   ]
  },
  {
   "cell_type": "code",
   "execution_count": null,
   "id": "74418e60-432e-4779-b9e6-862717610fcf",
   "metadata": {},
   "outputs": [],
   "source": [
    "for i in range(groups):\n",
    "    print(\"\")\n",
    "    print(\"#### {} ###\".format(i))\n",
    "    print(\"\")\n",
    "    for el in title_groups:\n",
    "        if el[0]==i:\n",
    "            print(\"{}\".format(el[1]))"
   ]
  },
  {
   "cell_type": "code",
   "execution_count": null,
   "id": "95d8de78-9de7-4459-bdad-4e01b46c7a8b",
   "metadata": {},
   "outputs": [],
   "source": []
  }
 ],
 "metadata": {
  "jupytext": {
   "formats": "ipynb,md"
  },
  "kernelspec": {
   "display_name": "Python 3",
   "language": "python",
   "name": "python3"
  },
  "language_info": {
   "codemirror_mode": {
    "name": "ipython",
    "version": 3
   },
   "file_extension": ".py",
   "mimetype": "text/x-python",
   "name": "python",
   "nbconvert_exporter": "python",
   "pygments_lexer": "ipython3",
   "version": "3.9.4"
  }
 },
 "nbformat": 4,
 "nbformat_minor": 5
}
